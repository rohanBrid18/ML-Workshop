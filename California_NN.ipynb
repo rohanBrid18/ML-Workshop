{
  "nbformat": 4,
  "nbformat_minor": 0,
  "metadata": {
    "colab": {
      "name": "California_NN.ipynb",
      "version": "0.3.2",
      "provenance": [],
      "include_colab_link": true
    },
    "kernelspec": {
      "name": "python3",
      "display_name": "Python 3"
    },
    "accelerator": "GPU"
  },
  "cells": [
    {
      "cell_type": "markdown",
      "metadata": {
        "id": "view-in-github",
        "colab_type": "text"
      },
      "source": [
        "<a href=\"https://colab.research.google.com/github/rohanBrid18/ML-Workshop/blob/master/California_NN.ipynb\" target=\"_parent\"><img src=\"https://colab.research.google.com/assets/colab-badge.svg\" alt=\"Open In Colab\"/></a>"
      ]
    },
    {
      "cell_type": "code",
      "metadata": {
        "id": "v2fPyveUfjHy",
        "colab_type": "code",
        "outputId": "85be99d6-1ebe-47bc-bed6-93e4cfab9ba7",
        "colab": {
          "base_uri": "https://localhost:8080/",
          "height": 34
        }
      },
      "source": [
        "from sklearn.datasets import fetch_california_housing\n",
        "from keras.models import Sequential\n",
        "from keras.layers import Activation, Dense\n",
        "from sklearn.model_selection import train_test_split\n",
        "from sklearn.preprocessing import MinMaxScaler\n",
        "import numpy as np\n",
        "import pandas as pd"
      ],
      "execution_count": 1,
      "outputs": [
        {
          "output_type": "stream",
          "text": [
            "Using TensorFlow backend.\n"
          ],
          "name": "stderr"
        }
      ]
    },
    {
      "cell_type": "code",
      "metadata": {
        "id": "_xcne72kftOW",
        "colab_type": "code",
        "colab": {}
      },
      "source": [
        "data = fetch_california_housing()"
      ],
      "execution_count": 0,
      "outputs": []
    },
    {
      "cell_type": "code",
      "metadata": {
        "id": "GLt_Jy5Mf2F3",
        "colab_type": "code",
        "outputId": "4fb7bbb4-a877-4915-a05a-25d25cd6440c",
        "colab": {
          "base_uri": "https://localhost:8080/",
          "height": 34
        }
      },
      "source": [
        "data.keys()"
      ],
      "execution_count": 3,
      "outputs": [
        {
          "output_type": "execute_result",
          "data": {
            "text/plain": [
              "dict_keys(['data', 'target', 'feature_names', 'DESCR'])"
            ]
          },
          "metadata": {
            "tags": []
          },
          "execution_count": 3
        }
      ]
    },
    {
      "cell_type": "code",
      "metadata": {
        "id": "LofNi61CXz9E",
        "colab_type": "code",
        "colab": {}
      },
      "source": [
        "scalar = MinMaxScaler()"
      ],
      "execution_count": 0,
      "outputs": []
    },
    {
      "cell_type": "code",
      "metadata": {
        "id": "ZketOG0zgOUN",
        "colab_type": "code",
        "colab": {}
      },
      "source": [
        "df = pd.DataFrame(\n",
        "    data=scalar.fit_transform(data['data']),\n",
        "    columns=data.feature_names\n",
        ")"
      ],
      "execution_count": 0,
      "outputs": []
    },
    {
      "cell_type": "code",
      "metadata": {
        "id": "kKfreFqEgiZf",
        "colab_type": "code",
        "colab": {}
      },
      "source": [
        "df['target'] = scalar.fit_transform(data['target'].reshape(-1,1))"
      ],
      "execution_count": 0,
      "outputs": []
    },
    {
      "cell_type": "code",
      "metadata": {
        "id": "jExtc7PqgtcO",
        "colab_type": "code",
        "outputId": "5b02fdcb-dacd-4080-9e4f-23004b5359ed",
        "colab": {
          "base_uri": "https://localhost:8080/",
          "height": 204
        }
      },
      "source": [
        "df.head()"
      ],
      "execution_count": 7,
      "outputs": [
        {
          "output_type": "execute_result",
          "data": {
            "text/html": [
              "<div>\n",
              "<style scoped>\n",
              "    .dataframe tbody tr th:only-of-type {\n",
              "        vertical-align: middle;\n",
              "    }\n",
              "\n",
              "    .dataframe tbody tr th {\n",
              "        vertical-align: top;\n",
              "    }\n",
              "\n",
              "    .dataframe thead th {\n",
              "        text-align: right;\n",
              "    }\n",
              "</style>\n",
              "<table border=\"1\" class=\"dataframe\">\n",
              "  <thead>\n",
              "    <tr style=\"text-align: right;\">\n",
              "      <th></th>\n",
              "      <th>MedInc</th>\n",
              "      <th>HouseAge</th>\n",
              "      <th>AveRooms</th>\n",
              "      <th>AveBedrms</th>\n",
              "      <th>Population</th>\n",
              "      <th>AveOccup</th>\n",
              "      <th>Latitude</th>\n",
              "      <th>Longitude</th>\n",
              "      <th>target</th>\n",
              "    </tr>\n",
              "  </thead>\n",
              "  <tbody>\n",
              "    <tr>\n",
              "      <th>0</th>\n",
              "      <td>0.539668</td>\n",
              "      <td>0.784314</td>\n",
              "      <td>0.043512</td>\n",
              "      <td>0.020469</td>\n",
              "      <td>0.008941</td>\n",
              "      <td>0.001499</td>\n",
              "      <td>0.567481</td>\n",
              "      <td>0.211155</td>\n",
              "      <td>0.902266</td>\n",
              "    </tr>\n",
              "    <tr>\n",
              "      <th>1</th>\n",
              "      <td>0.538027</td>\n",
              "      <td>0.392157</td>\n",
              "      <td>0.038224</td>\n",
              "      <td>0.018929</td>\n",
              "      <td>0.067210</td>\n",
              "      <td>0.001141</td>\n",
              "      <td>0.565356</td>\n",
              "      <td>0.212151</td>\n",
              "      <td>0.708247</td>\n",
              "    </tr>\n",
              "    <tr>\n",
              "      <th>2</th>\n",
              "      <td>0.466028</td>\n",
              "      <td>1.000000</td>\n",
              "      <td>0.052756</td>\n",
              "      <td>0.021940</td>\n",
              "      <td>0.013818</td>\n",
              "      <td>0.001698</td>\n",
              "      <td>0.564293</td>\n",
              "      <td>0.210159</td>\n",
              "      <td>0.695051</td>\n",
              "    </tr>\n",
              "    <tr>\n",
              "      <th>3</th>\n",
              "      <td>0.354699</td>\n",
              "      <td>1.000000</td>\n",
              "      <td>0.035241</td>\n",
              "      <td>0.021929</td>\n",
              "      <td>0.015555</td>\n",
              "      <td>0.001493</td>\n",
              "      <td>0.564293</td>\n",
              "      <td>0.209163</td>\n",
              "      <td>0.672783</td>\n",
              "    </tr>\n",
              "    <tr>\n",
              "      <th>4</th>\n",
              "      <td>0.230776</td>\n",
              "      <td>1.000000</td>\n",
              "      <td>0.038534</td>\n",
              "      <td>0.022166</td>\n",
              "      <td>0.015752</td>\n",
              "      <td>0.001198</td>\n",
              "      <td>0.564293</td>\n",
              "      <td>0.209163</td>\n",
              "      <td>0.674638</td>\n",
              "    </tr>\n",
              "  </tbody>\n",
              "</table>\n",
              "</div>"
            ],
            "text/plain": [
              "     MedInc  HouseAge  AveRooms  ...  Latitude  Longitude    target\n",
              "0  0.539668  0.784314  0.043512  ...  0.567481   0.211155  0.902266\n",
              "1  0.538027  0.392157  0.038224  ...  0.565356   0.212151  0.708247\n",
              "2  0.466028  1.000000  0.052756  ...  0.564293   0.210159  0.695051\n",
              "3  0.354699  1.000000  0.035241  ...  0.564293   0.209163  0.672783\n",
              "4  0.230776  1.000000  0.038534  ...  0.564293   0.209163  0.674638\n",
              "\n",
              "[5 rows x 9 columns]"
            ]
          },
          "metadata": {
            "tags": []
          },
          "execution_count": 7
        }
      ]
    },
    {
      "cell_type": "code",
      "metadata": {
        "id": "o0AhvZ3bgvPP",
        "colab_type": "code",
        "colab": {}
      },
      "source": [
        "xtrain, xtest, ytrain, ytest = train_test_split(df.iloc[:, :-1], df['target'], test_size=0.25)"
      ],
      "execution_count": 0,
      "outputs": []
    },
    {
      "cell_type": "code",
      "metadata": {
        "id": "JK0Mqxni_sJZ",
        "colab_type": "code",
        "colab": {}
      },
      "source": [
        "model = Sequential()"
      ],
      "execution_count": 0,
      "outputs": []
    },
    {
      "cell_type": "code",
      "metadata": {
        "id": "qAay3cfv_vRZ",
        "colab_type": "code",
        "colab": {}
      },
      "source": [
        "model.add(Dense(units=16, input_dim=8, activation='linear'))\n",
        "model.add(Dense(units=32, activation='linear'))\n",
        "model.add(Dense(units=1, activation='linear'))"
      ],
      "execution_count": 0,
      "outputs": []
    },
    {
      "cell_type": "code",
      "metadata": {
        "id": "XIwfLXNVABnE",
        "colab_type": "code",
        "colab": {}
      },
      "source": [
        "model.compile(loss='mean_squared_error', optimizer='sgd', metrics=['accuracy'])"
      ],
      "execution_count": 0,
      "outputs": []
    },
    {
      "cell_type": "code",
      "metadata": {
        "id": "6TJxGiUIAgxc",
        "colab_type": "code",
        "outputId": "24ba2da9-aca9-4ee9-ac6f-79714cfdcfbc",
        "colab": {
          "base_uri": "https://localhost:8080/",
          "height": 1000
        }
      },
      "source": [
        "model.fit(xtrain, ytrain, epochs=100)"
      ],
      "execution_count": 15,
      "outputs": [
        {
          "output_type": "stream",
          "text": [
            "W0624 17:20:41.653680 139648558901120 deprecation_wrapper.py:119] From /usr/local/lib/python3.6/dist-packages/keras/backend/tensorflow_backend.py:986: The name tf.assign_add is deprecated. Please use tf.compat.v1.assign_add instead.\n",
            "\n",
            "W0624 17:20:41.690759 139648558901120 deprecation_wrapper.py:119] From /usr/local/lib/python3.6/dist-packages/keras/backend/tensorflow_backend.py:973: The name tf.assign is deprecated. Please use tf.compat.v1.assign instead.\n",
            "\n"
          ],
          "name": "stderr"
        },
        {
          "output_type": "stream",
          "text": [
            "Epoch 1/100\n",
            "15480/15480 [==============================] - 2s 152us/step - loss: 0.0597 - acc: 1.9380e-04\n",
            "Epoch 2/100\n",
            "15480/15480 [==============================] - 1s 76us/step - loss: 0.0548 - acc: 3.8760e-04\n",
            "Epoch 3/100\n",
            "15480/15480 [==============================] - 1s 76us/step - loss: 0.0491 - acc: 0.0102\n",
            "Epoch 4/100\n",
            "15480/15480 [==============================] - 1s 77us/step - loss: 0.0324 - acc: 0.0320\n",
            "Epoch 5/100\n",
            "15480/15480 [==============================] - 1s 76us/step - loss: 0.0246 - acc: 0.0377\n",
            "Epoch 6/100\n",
            "15480/15480 [==============================] - 1s 77us/step - loss: 0.0240 - acc: 0.0384\n",
            "Epoch 7/100\n",
            "15480/15480 [==============================] - 1s 76us/step - loss: 0.0235 - acc: 0.0387\n",
            "Epoch 8/100\n",
            "15480/15480 [==============================] - 1s 76us/step - loss: 0.0233 - acc: 0.0390\n",
            "Epoch 9/100\n",
            "15480/15480 [==============================] - 1s 75us/step - loss: 0.0232 - acc: 0.0387\n",
            "Epoch 10/100\n",
            "15480/15480 [==============================] - 1s 75us/step - loss: 0.0231 - acc: 0.0389\n",
            "Epoch 11/100\n",
            "15480/15480 [==============================] - 1s 76us/step - loss: 0.0231 - acc: 0.0391\n",
            "Epoch 12/100\n",
            "15480/15480 [==============================] - 1s 76us/step - loss: 0.0231 - acc: 0.0391\n",
            "Epoch 13/100\n",
            "15480/15480 [==============================] - 1s 79us/step - loss: 0.0231 - acc: 0.0388\n",
            "Epoch 14/100\n",
            "15480/15480 [==============================] - 1s 79us/step - loss: 0.0231 - acc: 0.0384\n",
            "Epoch 15/100\n",
            "15480/15480 [==============================] - 1s 79us/step - loss: 0.0231 - acc: 0.0391\n",
            "Epoch 16/100\n",
            "15480/15480 [==============================] - 1s 79us/step - loss: 0.0230 - acc: 0.0389\n",
            "Epoch 17/100\n",
            "15480/15480 [==============================] - 1s 78us/step - loss: 0.0230 - acc: 0.0391\n",
            "Epoch 18/100\n",
            "15480/15480 [==============================] - 1s 77us/step - loss: 0.0231 - acc: 0.0387\n",
            "Epoch 19/100\n",
            "15480/15480 [==============================] - 1s 76us/step - loss: 0.0230 - acc: 0.0386\n",
            "Epoch 20/100\n",
            "15480/15480 [==============================] - 1s 75us/step - loss: 0.0230 - acc: 0.0389\n",
            "Epoch 21/100\n",
            "15480/15480 [==============================] - 1s 76us/step - loss: 0.0230 - acc: 0.0390\n",
            "Epoch 22/100\n",
            "15480/15480 [==============================] - 1s 75us/step - loss: 0.0230 - acc: 0.0391\n",
            "Epoch 23/100\n",
            "15480/15480 [==============================] - 1s 76us/step - loss: 0.0230 - acc: 0.0390\n",
            "Epoch 24/100\n",
            "15480/15480 [==============================] - 1s 78us/step - loss: 0.0231 - acc: 0.0387\n",
            "Epoch 25/100\n",
            "15480/15480 [==============================] - 1s 76us/step - loss: 0.0230 - acc: 0.0389\n",
            "Epoch 26/100\n",
            "15480/15480 [==============================] - 1s 76us/step - loss: 0.0230 - acc: 0.0388\n",
            "Epoch 27/100\n",
            "15480/15480 [==============================] - 1s 76us/step - loss: 0.0230 - acc: 0.0390\n",
            "Epoch 28/100\n",
            "15480/15480 [==============================] - 1s 76us/step - loss: 0.0230 - acc: 0.0391\n",
            "Epoch 29/100\n",
            "15480/15480 [==============================] - 1s 77us/step - loss: 0.0230 - acc: 0.0391\n",
            "Epoch 30/100\n",
            "15480/15480 [==============================] - 1s 76us/step - loss: 0.0230 - acc: 0.0390\n",
            "Epoch 31/100\n",
            "15480/15480 [==============================] - 1s 78us/step - loss: 0.0230 - acc: 0.0390\n",
            "Epoch 32/100\n",
            "15480/15480 [==============================] - 1s 76us/step - loss: 0.0230 - acc: 0.0388\n",
            "Epoch 33/100\n",
            "15480/15480 [==============================] - 1s 76us/step - loss: 0.0230 - acc: 0.0389\n",
            "Epoch 34/100\n",
            "15480/15480 [==============================] - 1s 76us/step - loss: 0.0230 - acc: 0.0391\n",
            "Epoch 35/100\n",
            "15480/15480 [==============================] - 1s 75us/step - loss: 0.0230 - acc: 0.0389\n",
            "Epoch 36/100\n",
            "15480/15480 [==============================] - 1s 76us/step - loss: 0.0230 - acc: 0.0389\n",
            "Epoch 37/100\n",
            "15480/15480 [==============================] - 1s 76us/step - loss: 0.0230 - acc: 0.0388\n",
            "Epoch 38/100\n",
            "15480/15480 [==============================] - 1s 77us/step - loss: 0.0230 - acc: 0.0391\n",
            "Epoch 39/100\n",
            "15480/15480 [==============================] - 1s 76us/step - loss: 0.0230 - acc: 0.0390\n",
            "Epoch 40/100\n",
            "15480/15480 [==============================] - 1s 75us/step - loss: 0.0230 - acc: 0.0388\n",
            "Epoch 41/100\n",
            "15480/15480 [==============================] - 1s 77us/step - loss: 0.0230 - acc: 0.0390\n",
            "Epoch 42/100\n",
            "15480/15480 [==============================] - 1s 77us/step - loss: 0.0230 - acc: 0.0391\n",
            "Epoch 43/100\n",
            "15480/15480 [==============================] - 1s 76us/step - loss: 0.0230 - acc: 0.0388\n",
            "Epoch 44/100\n",
            "15480/15480 [==============================] - 1s 76us/step - loss: 0.0230 - acc: 0.0390\n",
            "Epoch 45/100\n",
            "15480/15480 [==============================] - 1s 76us/step - loss: 0.0230 - acc: 0.0390\n",
            "Epoch 46/100\n",
            "15480/15480 [==============================] - 1s 78us/step - loss: 0.0229 - acc: 0.0389\n",
            "Epoch 47/100\n",
            "15480/15480 [==============================] - 1s 77us/step - loss: 0.0230 - acc: 0.0388\n",
            "Epoch 48/100\n",
            "15480/15480 [==============================] - 1s 76us/step - loss: 0.0229 - acc: 0.0390\n",
            "Epoch 49/100\n",
            "15480/15480 [==============================] - 1s 76us/step - loss: 0.0230 - acc: 0.0388\n",
            "Epoch 50/100\n",
            "15480/15480 [==============================] - 1s 78us/step - loss: 0.0230 - acc: 0.0392\n",
            "Epoch 51/100\n",
            "15480/15480 [==============================] - 1s 76us/step - loss: 0.0230 - acc: 0.0391\n",
            "Epoch 52/100\n",
            "15480/15480 [==============================] - 1s 76us/step - loss: 0.0230 - acc: 0.0392\n",
            "Epoch 53/100\n",
            "15480/15480 [==============================] - 1s 76us/step - loss: 0.0229 - acc: 0.0388\n",
            "Epoch 54/100\n",
            "15480/15480 [==============================] - 1s 77us/step - loss: 0.0230 - acc: 0.0390\n",
            "Epoch 55/100\n",
            "15480/15480 [==============================] - 1s 76us/step - loss: 0.0230 - acc: 0.0390\n",
            "Epoch 56/100\n",
            "15480/15480 [==============================] - 1s 76us/step - loss: 0.0230 - acc: 0.0388\n",
            "Epoch 57/100\n",
            "15480/15480 [==============================] - 1s 78us/step - loss: 0.0230 - acc: 0.0390\n",
            "Epoch 58/100\n",
            "15480/15480 [==============================] - 1s 75us/step - loss: 0.0229 - acc: 0.0388\n",
            "Epoch 59/100\n",
            "15480/15480 [==============================] - 1s 77us/step - loss: 0.0229 - acc: 0.0388\n",
            "Epoch 60/100\n",
            "15480/15480 [==============================] - 1s 76us/step - loss: 0.0230 - acc: 0.0392\n",
            "Epoch 61/100\n",
            "15480/15480 [==============================] - 1s 75us/step - loss: 0.0230 - acc: 0.0390\n",
            "Epoch 62/100\n",
            "15480/15480 [==============================] - 1s 75us/step - loss: 0.0229 - acc: 0.0390\n",
            "Epoch 63/100\n",
            "15480/15480 [==============================] - 1s 77us/step - loss: 0.0230 - acc: 0.0390\n",
            "Epoch 64/100\n",
            "15480/15480 [==============================] - 1s 76us/step - loss: 0.0230 - acc: 0.0390\n",
            "Epoch 65/100\n",
            "15480/15480 [==============================] - 1s 76us/step - loss: 0.0229 - acc: 0.0389\n",
            "Epoch 66/100\n",
            "15480/15480 [==============================] - 1s 76us/step - loss: 0.0230 - acc: 0.0390\n",
            "Epoch 67/100\n",
            "15480/15480 [==============================] - 1s 76us/step - loss: 0.0230 - acc: 0.0388\n",
            "Epoch 68/100\n",
            "15480/15480 [==============================] - 1s 78us/step - loss: 0.0230 - acc: 0.0391\n",
            "Epoch 69/100\n",
            "15480/15480 [==============================] - 1s 77us/step - loss: 0.0229 - acc: 0.0390\n",
            "Epoch 70/100\n",
            "15480/15480 [==============================] - 1s 76us/step - loss: 0.0230 - acc: 0.0395\n",
            "Epoch 71/100\n",
            "15480/15480 [==============================] - 1s 76us/step - loss: 0.0230 - acc: 0.0387\n",
            "Epoch 72/100\n",
            "15480/15480 [==============================] - 1s 76us/step - loss: 0.0229 - acc: 0.0391\n",
            "Epoch 73/100\n",
            "15480/15480 [==============================] - 1s 76us/step - loss: 0.0230 - acc: 0.0388\n",
            "Epoch 74/100\n",
            "15480/15480 [==============================] - 1s 76us/step - loss: 0.0229 - acc: 0.0387\n",
            "Epoch 75/100\n",
            "15480/15480 [==============================] - 1s 75us/step - loss: 0.0229 - acc: 0.0390\n",
            "Epoch 76/100\n",
            "15480/15480 [==============================] - 1s 77us/step - loss: 0.0230 - acc: 0.0391\n",
            "Epoch 77/100\n",
            "15480/15480 [==============================] - 1s 77us/step - loss: 0.0229 - acc: 0.0390\n",
            "Epoch 78/100\n",
            "15480/15480 [==============================] - 1s 76us/step - loss: 0.0229 - acc: 0.0394\n",
            "Epoch 79/100\n",
            "15480/15480 [==============================] - 1s 76us/step - loss: 0.0229 - acc: 0.0388\n",
            "Epoch 80/100\n",
            "15480/15480 [==============================] - 1s 76us/step - loss: 0.0229 - acc: 0.0390\n",
            "Epoch 81/100\n",
            "15480/15480 [==============================] - 1s 76us/step - loss: 0.0229 - acc: 0.0390\n",
            "Epoch 82/100\n",
            "15480/15480 [==============================] - 1s 76us/step - loss: 0.0229 - acc: 0.0391\n",
            "Epoch 83/100\n",
            "15480/15480 [==============================] - 1s 78us/step - loss: 0.0229 - acc: 0.0393\n",
            "Epoch 84/100\n",
            "15480/15480 [==============================] - 1s 75us/step - loss: 0.0230 - acc: 0.0391\n",
            "Epoch 85/100\n",
            "15480/15480 [==============================] - 1s 76us/step - loss: 0.0229 - acc: 0.0391\n",
            "Epoch 86/100\n",
            "15480/15480 [==============================] - 1s 77us/step - loss: 0.0229 - acc: 0.0387\n",
            "Epoch 87/100\n",
            "15480/15480 [==============================] - 1s 76us/step - loss: 0.0229 - acc: 0.0388\n",
            "Epoch 88/100\n",
            "15480/15480 [==============================] - 1s 77us/step - loss: 0.0229 - acc: 0.0389\n",
            "Epoch 89/100\n",
            "15480/15480 [==============================] - 1s 76us/step - loss: 0.0229 - acc: 0.0391\n",
            "Epoch 90/100\n",
            "15480/15480 [==============================] - 1s 76us/step - loss: 0.0229 - acc: 0.0391\n",
            "Epoch 91/100\n",
            "15480/15480 [==============================] - 1s 76us/step - loss: 0.0229 - acc: 0.0388\n",
            "Epoch 92/100\n",
            "15480/15480 [==============================] - 1s 77us/step - loss: 0.0229 - acc: 0.0391\n",
            "Epoch 93/100\n",
            "15480/15480 [==============================] - 1s 76us/step - loss: 0.0229 - acc: 0.0391\n",
            "Epoch 94/100\n",
            "15480/15480 [==============================] - 1s 76us/step - loss: 0.0229 - acc: 0.0388\n",
            "Epoch 95/100\n",
            "15480/15480 [==============================] - 1s 78us/step - loss: 0.0229 - acc: 0.0388\n",
            "Epoch 96/100\n",
            "15480/15480 [==============================] - 1s 75us/step - loss: 0.0229 - acc: 0.0390\n",
            "Epoch 97/100\n",
            "15480/15480 [==============================] - 1s 76us/step - loss: 0.0229 - acc: 0.0391\n",
            "Epoch 98/100\n",
            "15480/15480 [==============================] - 1s 76us/step - loss: 0.0229 - acc: 0.0390\n",
            "Epoch 99/100\n",
            "15480/15480 [==============================] - 1s 75us/step - loss: 0.0229 - acc: 0.0391\n",
            "Epoch 100/100\n",
            "15480/15480 [==============================] - 1s 76us/step - loss: 0.0229 - acc: 0.0388\n"
          ],
          "name": "stdout"
        },
        {
          "output_type": "execute_result",
          "data": {
            "text/plain": [
              "<keras.callbacks.History at 0x7f0254e39320>"
            ]
          },
          "metadata": {
            "tags": []
          },
          "execution_count": 15
        }
      ]
    },
    {
      "cell_type": "code",
      "metadata": {
        "id": "o4ff6a6OAoxM",
        "colab_type": "code",
        "outputId": "694c35de-598e-45c2-b213-f515f4dc3847",
        "colab": {
          "base_uri": "https://localhost:8080/",
          "height": 51
        }
      },
      "source": [
        "model.evaluate(xtest, ytest)"
      ],
      "execution_count": 16,
      "outputs": [
        {
          "output_type": "stream",
          "text": [
            "5160/5160 [==============================] - 0s 39us/step\n"
          ],
          "name": "stdout"
        },
        {
          "output_type": "execute_result",
          "data": {
            "text/plain": [
              "[0.022349020287885452, 0.042054263565891474]"
            ]
          },
          "metadata": {
            "tags": []
          },
          "execution_count": 16
        }
      ]
    },
    {
      "cell_type": "code",
      "metadata": {
        "id": "ndG48WYsBa9O",
        "colab_type": "code",
        "colab": {}
      },
      "source": [
        ""
      ],
      "execution_count": 0,
      "outputs": []
    }
  ]
}
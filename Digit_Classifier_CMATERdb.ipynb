{
  "nbformat": 4,
  "nbformat_minor": 0,
  "metadata": {
    "colab": {
      "name": "Digit_Classifier_CMATERdb.ipynb",
      "version": "0.3.2",
      "provenance": [],
      "collapsed_sections": [],
      "include_colab_link": true
    },
    "kernelspec": {
      "name": "python3",
      "display_name": "Python 3"
    },
    "accelerator": "GPU"
  },
  "cells": [
    {
      "cell_type": "markdown",
      "metadata": {
        "id": "view-in-github",
        "colab_type": "text"
      },
      "source": [
        "<a href=\"https://colab.research.google.com/github/rohanBrid18/ML-Workshop/blob/master/Digit_Classifier_CMATERdb.ipynb\" target=\"_parent\"><img src=\"https://colab.research.google.com/assets/colab-badge.svg\" alt=\"Open In Colab\"/></a>"
      ]
    },
    {
      "cell_type": "code",
      "metadata": {
        "id": "S-YVHBAfjAl9",
        "colab_type": "code",
        "outputId": "3cfd652d-c1db-4338-d121-a66902623b4d",
        "colab": {
          "base_uri": "https://localhost:8080/",
          "height": 34
        }
      },
      "source": [
        "from google.colab import drive\n",
        "\n",
        "drive.mount('/content/gdrive')"
      ],
      "execution_count": 1,
      "outputs": [
        {
          "output_type": "stream",
          "text": [
            "Drive already mounted at /content/gdrive; to attempt to forcibly remount, call drive.mount(\"/content/gdrive\", force_remount=True).\n"
          ],
          "name": "stdout"
        }
      ]
    },
    {
      "cell_type": "code",
      "metadata": {
        "id": "Rgm3EYLfmGhp",
        "colab_type": "code",
        "outputId": "2362a7ec-7bb6-40ed-8017-8b8064b46407",
        "colab": {
          "base_uri": "https://localhost:8080/",
          "height": 34
        }
      },
      "source": [
        "import numpy as np\n",
        "import pandas as pd\n",
        "\n",
        "from sklearn.model_selection import train_test_split\n",
        "from sklearn.preprocessing import LabelEncoder\n",
        "\n",
        "from keras.models import Sequential\n",
        "from keras.layers import Activation, Dense\n",
        "from keras.layers.convolutional import Conv2D\n",
        "from keras.layers.convolutional import MaxPooling2D\n",
        "from keras.layers import Dropout\n",
        "from keras.layers import Flatten\n",
        "from keras.utils import np_utils\n",
        "\n",
        "from keras import backend as K\n",
        "K.set_image_dim_ordering('th')\n",
        "\n",
        "import os"
      ],
      "execution_count": 2,
      "outputs": [
        {
          "output_type": "stream",
          "text": [
            "Using TensorFlow backend.\n"
          ],
          "name": "stderr"
        }
      ]
    },
    {
      "cell_type": "code",
      "metadata": {
        "id": "yG3NAhHqn79b",
        "colab_type": "code",
        "colab": {}
      },
      "source": [
        "train = np.load('gdrive/My Drive/Colab Notebooks/training-images.npz')\n",
        "test = np.load('gdrive/My Drive/Colab Notebooks/testing-images.npz')"
      ],
      "execution_count": 0,
      "outputs": []
    },
    {
      "cell_type": "code",
      "metadata": {
        "id": "kQoGXIZjn-Hr",
        "colab_type": "code",
        "outputId": "9f49c73a-6bb5-4030-a3bd-941214508a83",
        "colab": {
          "base_uri": "https://localhost:8080/",
          "height": 34
        }
      },
      "source": [
        "train['images'].shape, train['labels'].shape"
      ],
      "execution_count": 4,
      "outputs": [
        {
          "output_type": "execute_result",
          "data": {
            "text/plain": [
              "((2500, 32, 32, 3), (2500,))"
            ]
          },
          "metadata": {
            "tags": []
          },
          "execution_count": 4
        }
      ]
    },
    {
      "cell_type": "code",
      "metadata": {
        "id": "9Jq3vXt0Ikhx",
        "colab_type": "code",
        "colab": {}
      },
      "source": [
        "train_labels = np_utils.to_categorical(train['labels'])\n",
        "test_labels = np_utils.to_categorical(test['labels'])"
      ],
      "execution_count": 0,
      "outputs": []
    },
    {
      "cell_type": "code",
      "metadata": {
        "id": "RVGMuTEKJZx9",
        "colab_type": "code",
        "colab": {
          "base_uri": "https://localhost:8080/",
          "height": 34
        },
        "outputId": "6afe920c-40e0-4911-9aef-02e0e8a30dff"
      },
      "source": [
        "train_labels.shape, test_labels.shape"
      ],
      "execution_count": 6,
      "outputs": [
        {
          "output_type": "execute_result",
          "data": {
            "text/plain": [
              "((2500, 10), (500, 10))"
            ]
          },
          "metadata": {
            "tags": []
          },
          "execution_count": 6
        }
      ]
    },
    {
      "cell_type": "code",
      "metadata": {
        "id": "ZbnTM6IxLCQB",
        "colab_type": "code",
        "colab": {}
      },
      "source": [
        "train_images = train['images'] / 255\n",
        "test_images = test['images'] / 255"
      ],
      "execution_count": 0,
      "outputs": []
    },
    {
      "cell_type": "code",
      "metadata": {
        "id": "gbR8hNsGTeCL",
        "colab_type": "code",
        "colab": {}
      },
      "source": [
        "train_images = train_images.reshape(train_images.shape[0], 3, 32, 32).astype('float32')\n",
        "test_images = test_images.reshape(test_images.shape[0], 3, 32, 32).astype('float32')"
      ],
      "execution_count": 0,
      "outputs": []
    },
    {
      "cell_type": "code",
      "metadata": {
        "id": "lGvUWAahTkQN",
        "colab_type": "code",
        "colab": {
          "base_uri": "https://localhost:8080/",
          "height": 34
        },
        "outputId": "db75ae23-c98a-4f32-c154-f8a5b0e0f4a5"
      },
      "source": [
        "train_images.shape, test_images.shape"
      ],
      "execution_count": 9,
      "outputs": [
        {
          "output_type": "execute_result",
          "data": {
            "text/plain": [
              "((2500, 3, 32, 32), (500, 3, 32, 32))"
            ]
          },
          "metadata": {
            "tags": []
          },
          "execution_count": 9
        }
      ]
    },
    {
      "cell_type": "code",
      "metadata": {
        "id": "uEEL4TMDJ9JU",
        "colab_type": "code",
        "colab": {}
      },
      "source": [
        "model = Sequential()"
      ],
      "execution_count": 0,
      "outputs": []
    },
    {
      "cell_type": "code",
      "metadata": {
        "id": "JDbrayXMKMaV",
        "colab_type": "code",
        "colab": {}
      },
      "source": [
        "model.add(Conv2D(32, (5, 5), input_shape=(3, 32, 32), activation='relu'))\n",
        "model.add(MaxPooling2D(pool_size=(3, 3)))\n",
        "model.add(Dropout(0.2))\n",
        "\n",
        "model.add(Conv2D(16, (3, 3), input_shape=(3, 32, 32), activation='relu'))\n",
        "model.add(MaxPooling2D(pool_size=(2, 2)))\n",
        "model.add(Dropout(0.25))\n",
        "\n",
        "model.add(Flatten())\n",
        "\n",
        "model.add(Dense(128, activation='relu'))\n",
        "model.add(Dense(64, activation='relu'))\n",
        "model.add(Dense(10, activation='softmax'))"
      ],
      "execution_count": 0,
      "outputs": []
    },
    {
      "cell_type": "code",
      "metadata": {
        "id": "9gqx2JvZM2dV",
        "colab_type": "code",
        "colab": {
          "base_uri": "https://localhost:8080/",
          "height": 530
        },
        "outputId": "a334f682-8ce3-4312-a3ad-5abcc36d4a48"
      },
      "source": [
        "model.compile(loss='categorical_crossentropy', optimizer='adam', metrics=['accuracy'])\n",
        "model.summary()"
      ],
      "execution_count": 16,
      "outputs": [
        {
          "output_type": "stream",
          "text": [
            "W0704 14:44:45.542600 139841077376896 deprecation_wrapper.py:119] From /usr/local/lib/python3.6/dist-packages/keras/optimizers.py:790: The name tf.train.Optimizer is deprecated. Please use tf.compat.v1.train.Optimizer instead.\n",
            "\n"
          ],
          "name": "stderr"
        },
        {
          "output_type": "stream",
          "text": [
            "_________________________________________________________________\n",
            "Layer (type)                 Output Shape              Param #   \n",
            "=================================================================\n",
            "conv2d_4 (Conv2D)            (None, 32, 28, 28)        2432      \n",
            "_________________________________________________________________\n",
            "max_pooling2d_3 (MaxPooling2 (None, 32, 9, 9)          0         \n",
            "_________________________________________________________________\n",
            "dropout_3 (Dropout)          (None, 32, 9, 9)          0         \n",
            "_________________________________________________________________\n",
            "conv2d_5 (Conv2D)            (None, 16, 7, 7)          4624      \n",
            "_________________________________________________________________\n",
            "max_pooling2d_4 (MaxPooling2 (None, 16, 3, 3)          0         \n",
            "_________________________________________________________________\n",
            "dropout_4 (Dropout)          (None, 16, 3, 3)          0         \n",
            "_________________________________________________________________\n",
            "flatten_2 (Flatten)          (None, 144)               0         \n",
            "_________________________________________________________________\n",
            "dense_4 (Dense)              (None, 128)               18560     \n",
            "_________________________________________________________________\n",
            "dense_5 (Dense)              (None, 64)                8256      \n",
            "_________________________________________________________________\n",
            "dense_6 (Dense)              (None, 10)                650       \n",
            "=================================================================\n",
            "Total params: 34,522\n",
            "Trainable params: 34,522\n",
            "Non-trainable params: 0\n",
            "_________________________________________________________________\n"
          ],
          "name": "stdout"
        }
      ]
    },
    {
      "cell_type": "code",
      "metadata": {
        "id": "CA6mR1VfQUkp",
        "colab_type": "code",
        "colab": {
          "base_uri": "https://localhost:8080/",
          "height": 1000
        },
        "outputId": "55302d9d-e7f4-4ffe-aa50-94d47b74f366"
      },
      "source": [
        "model.fit(train_images, train_labels, validation_data=(test_images, test_labels), epochs=50, batch_size=128, verbose=2)"
      ],
      "execution_count": 17,
      "outputs": [
        {
          "output_type": "stream",
          "text": [
            "W0704 14:44:55.793896 139841077376896 deprecation.py:323] From /usr/local/lib/python3.6/dist-packages/tensorflow/python/ops/math_grad.py:1250: add_dispatch_support.<locals>.wrapper (from tensorflow.python.ops.array_ops) is deprecated and will be removed in a future version.\n",
            "Instructions for updating:\n",
            "Use tf.where in 2.0, which has the same broadcast rule as np.where\n"
          ],
          "name": "stderr"
        },
        {
          "output_type": "stream",
          "text": [
            "Train on 2500 samples, validate on 500 samples\n",
            "Epoch 1/50\n",
            " - 2s - loss: 2.2983 - acc: 0.1196 - val_loss: 2.2578 - val_acc: 0.2160\n",
            "Epoch 2/50\n",
            " - 0s - loss: 2.1559 - acc: 0.2176 - val_loss: 1.9644 - val_acc: 0.3600\n",
            "Epoch 3/50\n",
            " - 0s - loss: 1.9131 - acc: 0.3128 - val_loss: 1.7049 - val_acc: 0.4320\n",
            "Epoch 4/50\n",
            " - 0s - loss: 1.6910 - acc: 0.3968 - val_loss: 1.5124 - val_acc: 0.5020\n",
            "Epoch 5/50\n",
            " - 0s - loss: 1.5424 - acc: 0.4444 - val_loss: 1.4443 - val_acc: 0.5260\n",
            "Epoch 6/50\n",
            " - 0s - loss: 1.4676 - acc: 0.4784 - val_loss: 1.3186 - val_acc: 0.5440\n",
            "Epoch 7/50\n",
            " - 0s - loss: 1.3570 - acc: 0.5172 - val_loss: 1.2367 - val_acc: 0.5600\n",
            "Epoch 8/50\n",
            " - 0s - loss: 1.2823 - acc: 0.5448 - val_loss: 1.1913 - val_acc: 0.5820\n",
            "Epoch 9/50\n",
            " - 0s - loss: 1.2197 - acc: 0.5784 - val_loss: 1.1283 - val_acc: 0.6120\n",
            "Epoch 10/50\n",
            " - 0s - loss: 1.1580 - acc: 0.5904 - val_loss: 1.0710 - val_acc: 0.6180\n",
            "Epoch 11/50\n",
            " - 0s - loss: 1.0816 - acc: 0.6280 - val_loss: 0.9946 - val_acc: 0.6580\n",
            "Epoch 12/50\n",
            " - 0s - loss: 1.0278 - acc: 0.6364 - val_loss: 0.9622 - val_acc: 0.6720\n",
            "Epoch 13/50\n",
            " - 0s - loss: 0.9998 - acc: 0.6568 - val_loss: 0.9488 - val_acc: 0.6900\n",
            "Epoch 14/50\n",
            " - 0s - loss: 0.9281 - acc: 0.6816 - val_loss: 0.8825 - val_acc: 0.7100\n",
            "Epoch 15/50\n",
            " - 0s - loss: 0.8976 - acc: 0.6912 - val_loss: 0.8806 - val_acc: 0.7200\n",
            "Epoch 16/50\n",
            " - 0s - loss: 0.8638 - acc: 0.6996 - val_loss: 0.8276 - val_acc: 0.7360\n",
            "Epoch 17/50\n",
            " - 0s - loss: 0.8238 - acc: 0.7252 - val_loss: 0.8276 - val_acc: 0.7340\n",
            "Epoch 18/50\n",
            " - 0s - loss: 0.8184 - acc: 0.7228 - val_loss: 0.7814 - val_acc: 0.7420\n",
            "Epoch 19/50\n",
            " - 0s - loss: 0.7889 - acc: 0.7324 - val_loss: 0.7669 - val_acc: 0.7480\n",
            "Epoch 20/50\n",
            " - 0s - loss: 0.7853 - acc: 0.7316 - val_loss: 0.7983 - val_acc: 0.7320\n",
            "Epoch 21/50\n",
            " - 0s - loss: 0.7523 - acc: 0.7440 - val_loss: 0.7799 - val_acc: 0.7600\n",
            "Epoch 22/50\n",
            " - 0s - loss: 0.7339 - acc: 0.7516 - val_loss: 0.7259 - val_acc: 0.7660\n",
            "Epoch 23/50\n",
            " - 0s - loss: 0.6950 - acc: 0.7560 - val_loss: 0.6944 - val_acc: 0.7700\n",
            "Epoch 24/50\n",
            " - 0s - loss: 0.6511 - acc: 0.7772 - val_loss: 0.6854 - val_acc: 0.7740\n",
            "Epoch 25/50\n",
            " - 0s - loss: 0.6871 - acc: 0.7672 - val_loss: 0.6925 - val_acc: 0.7820\n",
            "Epoch 26/50\n",
            " - 0s - loss: 0.6305 - acc: 0.7916 - val_loss: 0.6857 - val_acc: 0.7900\n",
            "Epoch 27/50\n",
            " - 0s - loss: 0.6227 - acc: 0.7852 - val_loss: 0.6586 - val_acc: 0.7940\n",
            "Epoch 28/50\n",
            " - 0s - loss: 0.5989 - acc: 0.8004 - val_loss: 0.7076 - val_acc: 0.7920\n",
            "Epoch 29/50\n",
            " - 0s - loss: 0.6222 - acc: 0.7964 - val_loss: 0.6652 - val_acc: 0.7900\n",
            "Epoch 30/50\n",
            " - 0s - loss: 0.6132 - acc: 0.7900 - val_loss: 0.7206 - val_acc: 0.7700\n",
            "Epoch 31/50\n",
            " - 0s - loss: 0.5812 - acc: 0.8008 - val_loss: 0.6490 - val_acc: 0.8100\n",
            "Epoch 32/50\n",
            " - 0s - loss: 0.5625 - acc: 0.8132 - val_loss: 0.6529 - val_acc: 0.7940\n",
            "Epoch 33/50\n",
            " - 0s - loss: 0.5481 - acc: 0.8100 - val_loss: 0.6450 - val_acc: 0.8120\n",
            "Epoch 34/50\n",
            " - 0s - loss: 0.5412 - acc: 0.8236 - val_loss: 0.6077 - val_acc: 0.8140\n",
            "Epoch 35/50\n",
            " - 0s - loss: 0.5323 - acc: 0.8264 - val_loss: 0.6213 - val_acc: 0.8220\n",
            "Epoch 36/50\n",
            " - 0s - loss: 0.4916 - acc: 0.8304 - val_loss: 0.6196 - val_acc: 0.8220\n",
            "Epoch 37/50\n",
            " - 0s - loss: 0.4894 - acc: 0.8376 - val_loss: 0.6139 - val_acc: 0.8160\n",
            "Epoch 38/50\n",
            " - 0s - loss: 0.5087 - acc: 0.8220 - val_loss: 0.6237 - val_acc: 0.8100\n",
            "Epoch 39/50\n",
            " - 0s - loss: 0.4695 - acc: 0.8392 - val_loss: 0.6447 - val_acc: 0.8040\n",
            "Epoch 40/50\n",
            " - 0s - loss: 0.4532 - acc: 0.8460 - val_loss: 0.5968 - val_acc: 0.8280\n",
            "Epoch 41/50\n",
            " - 0s - loss: 0.4542 - acc: 0.8400 - val_loss: 0.5920 - val_acc: 0.8280\n",
            "Epoch 42/50\n",
            " - 0s - loss: 0.4277 - acc: 0.8524 - val_loss: 0.6466 - val_acc: 0.8180\n",
            "Epoch 43/50\n",
            " - 0s - loss: 0.4327 - acc: 0.8488 - val_loss: 0.6082 - val_acc: 0.8220\n",
            "Epoch 44/50\n",
            " - 0s - loss: 0.4416 - acc: 0.8508 - val_loss: 0.6068 - val_acc: 0.8280\n",
            "Epoch 45/50\n",
            " - 0s - loss: 0.4008 - acc: 0.8644 - val_loss: 0.5783 - val_acc: 0.8320\n",
            "Epoch 46/50\n",
            " - 0s - loss: 0.4210 - acc: 0.8616 - val_loss: 0.5967 - val_acc: 0.8240\n",
            "Epoch 47/50\n",
            " - 0s - loss: 0.3968 - acc: 0.8728 - val_loss: 0.6124 - val_acc: 0.8160\n",
            "Epoch 48/50\n",
            " - 0s - loss: 0.3862 - acc: 0.8656 - val_loss: 0.5905 - val_acc: 0.8360\n",
            "Epoch 49/50\n",
            " - 0s - loss: 0.3899 - acc: 0.8664 - val_loss: 0.5647 - val_acc: 0.8400\n",
            "Epoch 50/50\n",
            " - 0s - loss: 0.3755 - acc: 0.8700 - val_loss: 0.5911 - val_acc: 0.8260\n"
          ],
          "name": "stdout"
        },
        {
          "output_type": "execute_result",
          "data": {
            "text/plain": [
              "<keras.callbacks.History at 0x7f2eacf625f8>"
            ]
          },
          "metadata": {
            "tags": []
          },
          "execution_count": 17
        }
      ]
    },
    {
      "cell_type": "code",
      "metadata": {
        "id": "lmsfMBYrRIXk",
        "colab_type": "code",
        "colab": {}
      },
      "source": [
        ""
      ],
      "execution_count": 0,
      "outputs": []
    }
  ]
}
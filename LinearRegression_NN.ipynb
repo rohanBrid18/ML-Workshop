{
  "nbformat": 4,
  "nbformat_minor": 0,
  "metadata": {
    "colab": {
      "name": "LinearRegression_NN.ipynb",
      "version": "0.3.2",
      "provenance": [],
      "include_colab_link": true
    },
    "kernelspec": {
      "name": "python3",
      "display_name": "Python 3"
    },
    "accelerator": "GPU"
  },
  "cells": [
    {
      "cell_type": "markdown",
      "metadata": {
        "id": "view-in-github",
        "colab_type": "text"
      },
      "source": [
        "<a href=\"https://colab.research.google.com/github/rohanBrid18/ML-Workshop/blob/master/LinearRegression_NN.ipynb\" target=\"_parent\"><img src=\"https://colab.research.google.com/assets/colab-badge.svg\" alt=\"Open In Colab\"/></a>"
      ]
    },
    {
      "cell_type": "code",
      "metadata": {
        "id": "l4VLk9iQDQCP",
        "colab_type": "code",
        "colab": {
          "base_uri": "https://localhost:8080/",
          "height": 34
        },
        "outputId": "ad60846b-4723-456c-af1e-ba73274b72b8"
      },
      "source": [
        "from sklearn.datasets import load_boston\n",
        "from keras.models import Sequential\n",
        "from keras.layers import Activation, Dense\n",
        "from sklearn.model_selection import train_test_split\n",
        "from sklearn.preprocessing import MinMaxScaler\n",
        "import numpy as np\n",
        "import pandas as pd"
      ],
      "execution_count": 1,
      "outputs": [
        {
          "output_type": "stream",
          "text": [
            "Using TensorFlow backend.\n"
          ],
          "name": "stderr"
        }
      ]
    },
    {
      "cell_type": "code",
      "metadata": {
        "id": "JAt2c2trK9oV",
        "colab_type": "code",
        "colab": {}
      },
      "source": [
        "scalar = MinMaxScaler()"
      ],
      "execution_count": 0,
      "outputs": []
    },
    {
      "cell_type": "code",
      "metadata": {
        "id": "MOnEgApR51VP",
        "colab_type": "code",
        "colab": {
          "base_uri": "https://localhost:8080/",
          "height": 34
        },
        "outputId": "c19f061b-cecf-4c7f-e600-edec7459c267"
      },
      "source": [
        "data = load_boston()\n",
        "data.keys()"
      ],
      "execution_count": 3,
      "outputs": [
        {
          "output_type": "execute_result",
          "data": {
            "text/plain": [
              "dict_keys(['data', 'target', 'feature_names', 'DESCR', 'filename'])"
            ]
          },
          "metadata": {
            "tags": []
          },
          "execution_count": 3
        }
      ]
    },
    {
      "cell_type": "code",
      "metadata": {
        "id": "XcCr-o5iEyeU",
        "colab_type": "code",
        "colab": {}
      },
      "source": [
        "df = pd.DataFrame(\n",
        "    columns=data.feature_names,\n",
        "    data=scalar.fit_transform(data['data'])\n",
        ")"
      ],
      "execution_count": 0,
      "outputs": []
    },
    {
      "cell_type": "code",
      "metadata": {
        "id": "okraHjyIMhoj",
        "colab_type": "code",
        "colab": {}
      },
      "source": [
        "data['target'] = data['target'].reshape(-1, 1)"
      ],
      "execution_count": 0,
      "outputs": []
    },
    {
      "cell_type": "code",
      "metadata": {
        "id": "NhI5R8kv7vRc",
        "colab_type": "code",
        "colab": {}
      },
      "source": [
        "df['target'] = scalar.fit_transform(data['target'])"
      ],
      "execution_count": 0,
      "outputs": []
    },
    {
      "cell_type": "code",
      "metadata": {
        "id": "hB2FK-W1M6j8",
        "colab_type": "code",
        "outputId": "703150b5-e460-4b9e-fab2-0efaede1bca1",
        "colab": {
          "base_uri": "https://localhost:8080/",
          "height": 204
        }
      },
      "source": [
        "df.head()"
      ],
      "execution_count": 7,
      "outputs": [
        {
          "output_type": "execute_result",
          "data": {
            "text/html": [
              "<div>\n",
              "<style scoped>\n",
              "    .dataframe tbody tr th:only-of-type {\n",
              "        vertical-align: middle;\n",
              "    }\n",
              "\n",
              "    .dataframe tbody tr th {\n",
              "        vertical-align: top;\n",
              "    }\n",
              "\n",
              "    .dataframe thead th {\n",
              "        text-align: right;\n",
              "    }\n",
              "</style>\n",
              "<table border=\"1\" class=\"dataframe\">\n",
              "  <thead>\n",
              "    <tr style=\"text-align: right;\">\n",
              "      <th></th>\n",
              "      <th>CRIM</th>\n",
              "      <th>ZN</th>\n",
              "      <th>INDUS</th>\n",
              "      <th>CHAS</th>\n",
              "      <th>NOX</th>\n",
              "      <th>RM</th>\n",
              "      <th>AGE</th>\n",
              "      <th>DIS</th>\n",
              "      <th>RAD</th>\n",
              "      <th>TAX</th>\n",
              "      <th>PTRATIO</th>\n",
              "      <th>B</th>\n",
              "      <th>LSTAT</th>\n",
              "      <th>target</th>\n",
              "    </tr>\n",
              "  </thead>\n",
              "  <tbody>\n",
              "    <tr>\n",
              "      <th>0</th>\n",
              "      <td>0.000000</td>\n",
              "      <td>0.18</td>\n",
              "      <td>0.067815</td>\n",
              "      <td>0.0</td>\n",
              "      <td>0.314815</td>\n",
              "      <td>0.577505</td>\n",
              "      <td>0.641607</td>\n",
              "      <td>0.269203</td>\n",
              "      <td>0.000000</td>\n",
              "      <td>0.208015</td>\n",
              "      <td>0.287234</td>\n",
              "      <td>1.000000</td>\n",
              "      <td>0.089680</td>\n",
              "      <td>0.422222</td>\n",
              "    </tr>\n",
              "    <tr>\n",
              "      <th>1</th>\n",
              "      <td>0.000236</td>\n",
              "      <td>0.00</td>\n",
              "      <td>0.242302</td>\n",
              "      <td>0.0</td>\n",
              "      <td>0.172840</td>\n",
              "      <td>0.547998</td>\n",
              "      <td>0.782698</td>\n",
              "      <td>0.348962</td>\n",
              "      <td>0.043478</td>\n",
              "      <td>0.104962</td>\n",
              "      <td>0.553191</td>\n",
              "      <td>1.000000</td>\n",
              "      <td>0.204470</td>\n",
              "      <td>0.368889</td>\n",
              "    </tr>\n",
              "    <tr>\n",
              "      <th>2</th>\n",
              "      <td>0.000236</td>\n",
              "      <td>0.00</td>\n",
              "      <td>0.242302</td>\n",
              "      <td>0.0</td>\n",
              "      <td>0.172840</td>\n",
              "      <td>0.694386</td>\n",
              "      <td>0.599382</td>\n",
              "      <td>0.348962</td>\n",
              "      <td>0.043478</td>\n",
              "      <td>0.104962</td>\n",
              "      <td>0.553191</td>\n",
              "      <td>0.989737</td>\n",
              "      <td>0.063466</td>\n",
              "      <td>0.660000</td>\n",
              "    </tr>\n",
              "    <tr>\n",
              "      <th>3</th>\n",
              "      <td>0.000293</td>\n",
              "      <td>0.00</td>\n",
              "      <td>0.063050</td>\n",
              "      <td>0.0</td>\n",
              "      <td>0.150206</td>\n",
              "      <td>0.658555</td>\n",
              "      <td>0.441813</td>\n",
              "      <td>0.448545</td>\n",
              "      <td>0.086957</td>\n",
              "      <td>0.066794</td>\n",
              "      <td>0.648936</td>\n",
              "      <td>0.994276</td>\n",
              "      <td>0.033389</td>\n",
              "      <td>0.631111</td>\n",
              "    </tr>\n",
              "    <tr>\n",
              "      <th>4</th>\n",
              "      <td>0.000705</td>\n",
              "      <td>0.00</td>\n",
              "      <td>0.063050</td>\n",
              "      <td>0.0</td>\n",
              "      <td>0.150206</td>\n",
              "      <td>0.687105</td>\n",
              "      <td>0.528321</td>\n",
              "      <td>0.448545</td>\n",
              "      <td>0.086957</td>\n",
              "      <td>0.066794</td>\n",
              "      <td>0.648936</td>\n",
              "      <td>1.000000</td>\n",
              "      <td>0.099338</td>\n",
              "      <td>0.693333</td>\n",
              "    </tr>\n",
              "  </tbody>\n",
              "</table>\n",
              "</div>"
            ],
            "text/plain": [
              "       CRIM    ZN     INDUS  CHAS  ...   PTRATIO         B     LSTAT    target\n",
              "0  0.000000  0.18  0.067815   0.0  ...  0.287234  1.000000  0.089680  0.422222\n",
              "1  0.000236  0.00  0.242302   0.0  ...  0.553191  1.000000  0.204470  0.368889\n",
              "2  0.000236  0.00  0.242302   0.0  ...  0.553191  0.989737  0.063466  0.660000\n",
              "3  0.000293  0.00  0.063050   0.0  ...  0.648936  0.994276  0.033389  0.631111\n",
              "4  0.000705  0.00  0.063050   0.0  ...  0.648936  1.000000  0.099338  0.693333\n",
              "\n",
              "[5 rows x 14 columns]"
            ]
          },
          "metadata": {
            "tags": []
          },
          "execution_count": 7
        }
      ]
    },
    {
      "cell_type": "code",
      "metadata": {
        "id": "LdemMJxLJWzv",
        "colab_type": "code",
        "outputId": "b39fe33c-b74c-46ed-c02b-b97c98fc2e10",
        "colab": {
          "base_uri": "https://localhost:8080/",
          "height": 317
        }
      },
      "source": [
        "df.describe()"
      ],
      "execution_count": 8,
      "outputs": [
        {
          "output_type": "execute_result",
          "data": {
            "text/html": [
              "<div>\n",
              "<style scoped>\n",
              "    .dataframe tbody tr th:only-of-type {\n",
              "        vertical-align: middle;\n",
              "    }\n",
              "\n",
              "    .dataframe tbody tr th {\n",
              "        vertical-align: top;\n",
              "    }\n",
              "\n",
              "    .dataframe thead th {\n",
              "        text-align: right;\n",
              "    }\n",
              "</style>\n",
              "<table border=\"1\" class=\"dataframe\">\n",
              "  <thead>\n",
              "    <tr style=\"text-align: right;\">\n",
              "      <th></th>\n",
              "      <th>CRIM</th>\n",
              "      <th>ZN</th>\n",
              "      <th>INDUS</th>\n",
              "      <th>CHAS</th>\n",
              "      <th>NOX</th>\n",
              "      <th>RM</th>\n",
              "      <th>AGE</th>\n",
              "      <th>DIS</th>\n",
              "      <th>RAD</th>\n",
              "      <th>TAX</th>\n",
              "      <th>PTRATIO</th>\n",
              "      <th>B</th>\n",
              "      <th>LSTAT</th>\n",
              "      <th>target</th>\n",
              "    </tr>\n",
              "  </thead>\n",
              "  <tbody>\n",
              "    <tr>\n",
              "      <th>count</th>\n",
              "      <td>506.000000</td>\n",
              "      <td>506.000000</td>\n",
              "      <td>506.000000</td>\n",
              "      <td>506.000000</td>\n",
              "      <td>506.000000</td>\n",
              "      <td>506.000000</td>\n",
              "      <td>506.000000</td>\n",
              "      <td>506.000000</td>\n",
              "      <td>506.000000</td>\n",
              "      <td>506.000000</td>\n",
              "      <td>506.000000</td>\n",
              "      <td>506.000000</td>\n",
              "      <td>506.000000</td>\n",
              "      <td>506.000000</td>\n",
              "    </tr>\n",
              "    <tr>\n",
              "      <th>mean</th>\n",
              "      <td>0.040544</td>\n",
              "      <td>0.113636</td>\n",
              "      <td>0.391378</td>\n",
              "      <td>0.069170</td>\n",
              "      <td>0.349167</td>\n",
              "      <td>0.521869</td>\n",
              "      <td>0.676364</td>\n",
              "      <td>0.242381</td>\n",
              "      <td>0.371713</td>\n",
              "      <td>0.422208</td>\n",
              "      <td>0.622929</td>\n",
              "      <td>0.898568</td>\n",
              "      <td>0.301409</td>\n",
              "      <td>0.389618</td>\n",
              "    </tr>\n",
              "    <tr>\n",
              "      <th>std</th>\n",
              "      <td>0.096679</td>\n",
              "      <td>0.233225</td>\n",
              "      <td>0.251479</td>\n",
              "      <td>0.253994</td>\n",
              "      <td>0.238431</td>\n",
              "      <td>0.134627</td>\n",
              "      <td>0.289896</td>\n",
              "      <td>0.191482</td>\n",
              "      <td>0.378576</td>\n",
              "      <td>0.321636</td>\n",
              "      <td>0.230313</td>\n",
              "      <td>0.230205</td>\n",
              "      <td>0.197049</td>\n",
              "      <td>0.204380</td>\n",
              "    </tr>\n",
              "    <tr>\n",
              "      <th>min</th>\n",
              "      <td>0.000000</td>\n",
              "      <td>0.000000</td>\n",
              "      <td>0.000000</td>\n",
              "      <td>0.000000</td>\n",
              "      <td>0.000000</td>\n",
              "      <td>0.000000</td>\n",
              "      <td>0.000000</td>\n",
              "      <td>0.000000</td>\n",
              "      <td>0.000000</td>\n",
              "      <td>0.000000</td>\n",
              "      <td>0.000000</td>\n",
              "      <td>0.000000</td>\n",
              "      <td>0.000000</td>\n",
              "      <td>0.000000</td>\n",
              "    </tr>\n",
              "    <tr>\n",
              "      <th>25%</th>\n",
              "      <td>0.000851</td>\n",
              "      <td>0.000000</td>\n",
              "      <td>0.173387</td>\n",
              "      <td>0.000000</td>\n",
              "      <td>0.131687</td>\n",
              "      <td>0.445392</td>\n",
              "      <td>0.433831</td>\n",
              "      <td>0.088259</td>\n",
              "      <td>0.130435</td>\n",
              "      <td>0.175573</td>\n",
              "      <td>0.510638</td>\n",
              "      <td>0.945730</td>\n",
              "      <td>0.144040</td>\n",
              "      <td>0.267222</td>\n",
              "    </tr>\n",
              "    <tr>\n",
              "      <th>50%</th>\n",
              "      <td>0.002812</td>\n",
              "      <td>0.000000</td>\n",
              "      <td>0.338343</td>\n",
              "      <td>0.000000</td>\n",
              "      <td>0.314815</td>\n",
              "      <td>0.507281</td>\n",
              "      <td>0.768280</td>\n",
              "      <td>0.188949</td>\n",
              "      <td>0.173913</td>\n",
              "      <td>0.272901</td>\n",
              "      <td>0.686170</td>\n",
              "      <td>0.986232</td>\n",
              "      <td>0.265728</td>\n",
              "      <td>0.360000</td>\n",
              "    </tr>\n",
              "    <tr>\n",
              "      <th>75%</th>\n",
              "      <td>0.041258</td>\n",
              "      <td>0.125000</td>\n",
              "      <td>0.646628</td>\n",
              "      <td>0.000000</td>\n",
              "      <td>0.491770</td>\n",
              "      <td>0.586798</td>\n",
              "      <td>0.938980</td>\n",
              "      <td>0.369088</td>\n",
              "      <td>1.000000</td>\n",
              "      <td>0.914122</td>\n",
              "      <td>0.808511</td>\n",
              "      <td>0.998298</td>\n",
              "      <td>0.420116</td>\n",
              "      <td>0.444444</td>\n",
              "    </tr>\n",
              "    <tr>\n",
              "      <th>max</th>\n",
              "      <td>1.000000</td>\n",
              "      <td>1.000000</td>\n",
              "      <td>1.000000</td>\n",
              "      <td>1.000000</td>\n",
              "      <td>1.000000</td>\n",
              "      <td>1.000000</td>\n",
              "      <td>1.000000</td>\n",
              "      <td>1.000000</td>\n",
              "      <td>1.000000</td>\n",
              "      <td>1.000000</td>\n",
              "      <td>1.000000</td>\n",
              "      <td>1.000000</td>\n",
              "      <td>1.000000</td>\n",
              "      <td>1.000000</td>\n",
              "    </tr>\n",
              "  </tbody>\n",
              "</table>\n",
              "</div>"
            ],
            "text/plain": [
              "             CRIM          ZN       INDUS  ...           B       LSTAT      target\n",
              "count  506.000000  506.000000  506.000000  ...  506.000000  506.000000  506.000000\n",
              "mean     0.040544    0.113636    0.391378  ...    0.898568    0.301409    0.389618\n",
              "std      0.096679    0.233225    0.251479  ...    0.230205    0.197049    0.204380\n",
              "min      0.000000    0.000000    0.000000  ...    0.000000    0.000000    0.000000\n",
              "25%      0.000851    0.000000    0.173387  ...    0.945730    0.144040    0.267222\n",
              "50%      0.002812    0.000000    0.338343  ...    0.986232    0.265728    0.360000\n",
              "75%      0.041258    0.125000    0.646628  ...    0.998298    0.420116    0.444444\n",
              "max      1.000000    1.000000    1.000000  ...    1.000000    1.000000    1.000000\n",
              "\n",
              "[8 rows x 14 columns]"
            ]
          },
          "metadata": {
            "tags": []
          },
          "execution_count": 8
        }
      ]
    },
    {
      "cell_type": "code",
      "metadata": {
        "id": "lSPaYQo1FCbh",
        "colab_type": "code",
        "colab": {}
      },
      "source": [
        "xtrain, xtest, ytrain, ytest = train_test_split(df.iloc[:, :-1], df['target'], test_size=0.3)"
      ],
      "execution_count": 0,
      "outputs": []
    },
    {
      "cell_type": "code",
      "metadata": {
        "id": "bfPdd5uvF_xV",
        "colab_type": "code",
        "colab": {}
      },
      "source": [
        "model = Sequential()"
      ],
      "execution_count": 0,
      "outputs": []
    },
    {
      "cell_type": "code",
      "metadata": {
        "id": "tW0TTUVXGEV2",
        "colab_type": "code",
        "colab": {}
      },
      "source": [
        "model.add(Dense(units=16, input_dim=13, activation='linear'))\n",
        "model.add(Dense(units=32, activation='linear'))\n",
        "model.add(Dense(units=1, activation='linear'))"
      ],
      "execution_count": 0,
      "outputs": []
    },
    {
      "cell_type": "code",
      "metadata": {
        "id": "HH0PO0HHHHSp",
        "colab_type": "code",
        "colab": {}
      },
      "source": [
        "model.compile(loss='mean_squared_error', optimizer='sgd', metrics=['accuracy'])"
      ],
      "execution_count": 0,
      "outputs": []
    },
    {
      "cell_type": "code",
      "metadata": {
        "id": "48hItjdeG_Ed",
        "colab_type": "code",
        "outputId": "8e53f6f4-5efd-4be2-db3e-f553eaa35b11",
        "colab": {
          "base_uri": "https://localhost:8080/",
          "height": 1822
        }
      },
      "source": [
        "model.fit(xtrain, ytrain, epochs=50)"
      ],
      "execution_count": 16,
      "outputs": [
        {
          "output_type": "stream",
          "text": [
            "W0623 15:32:50.366872 140414986635136 deprecation_wrapper.py:119] From /usr/local/lib/python3.6/dist-packages/keras/backend/tensorflow_backend.py:986: The name tf.assign_add is deprecated. Please use tf.compat.v1.assign_add instead.\n",
            "\n",
            "W0623 15:32:50.403525 140414986635136 deprecation_wrapper.py:119] From /usr/local/lib/python3.6/dist-packages/keras/backend/tensorflow_backend.py:973: The name tf.assign is deprecated. Please use tf.compat.v1.assign instead.\n",
            "\n"
          ],
          "name": "stderr"
        },
        {
          "output_type": "stream",
          "text": [
            "Epoch 1/50\n",
            "354/354 [==============================] - 1s 4ms/step - loss: 0.0802 - acc: 0.0056 \n",
            "Epoch 2/50\n",
            "354/354 [==============================] - 0s 99us/step - loss: 0.0305 - acc: 0.0085\n",
            "Epoch 3/50\n",
            "354/354 [==============================] - 0s 100us/step - loss: 0.0277 - acc: 0.0113\n",
            "Epoch 4/50\n",
            "354/354 [==============================] - 0s 97us/step - loss: 0.0271 - acc: 0.0113\n",
            "Epoch 5/50\n",
            "354/354 [==============================] - 0s 95us/step - loss: 0.0267 - acc: 0.0113\n",
            "Epoch 6/50\n",
            "354/354 [==============================] - 0s 102us/step - loss: 0.0263 - acc: 0.0113\n",
            "Epoch 7/50\n",
            "354/354 [==============================] - 0s 97us/step - loss: 0.0260 - acc: 0.0113\n",
            "Epoch 8/50\n",
            "354/354 [==============================] - 0s 94us/step - loss: 0.0259 - acc: 0.0141\n",
            "Epoch 9/50\n",
            "354/354 [==============================] - 0s 95us/step - loss: 0.0255 - acc: 0.0113\n",
            "Epoch 10/50\n",
            "354/354 [==============================] - 0s 98us/step - loss: 0.0250 - acc: 0.0169\n",
            "Epoch 11/50\n",
            "354/354 [==============================] - 0s 97us/step - loss: 0.0251 - acc: 0.0141\n",
            "Epoch 12/50\n",
            "354/354 [==============================] - 0s 91us/step - loss: 0.0249 - acc: 0.0169\n",
            "Epoch 13/50\n",
            "354/354 [==============================] - 0s 91us/step - loss: 0.0243 - acc: 0.0169\n",
            "Epoch 14/50\n",
            "354/354 [==============================] - 0s 113us/step - loss: 0.0242 - acc: 0.0169\n",
            "Epoch 15/50\n",
            "354/354 [==============================] - 0s 101us/step - loss: 0.0239 - acc: 0.0169\n",
            "Epoch 16/50\n",
            "354/354 [==============================] - 0s 100us/step - loss: 0.0239 - acc: 0.0169\n",
            "Epoch 17/50\n",
            "354/354 [==============================] - 0s 94us/step - loss: 0.0235 - acc: 0.0169\n",
            "Epoch 18/50\n",
            "354/354 [==============================] - 0s 95us/step - loss: 0.0242 - acc: 0.0169\n",
            "Epoch 19/50\n",
            "354/354 [==============================] - 0s 103us/step - loss: 0.0233 - acc: 0.0169\n",
            "Epoch 20/50\n",
            "354/354 [==============================] - 0s 102us/step - loss: 0.0230 - acc: 0.0169\n",
            "Epoch 21/50\n",
            "354/354 [==============================] - 0s 94us/step - loss: 0.0228 - acc: 0.0169\n",
            "Epoch 22/50\n",
            "354/354 [==============================] - 0s 95us/step - loss: 0.0227 - acc: 0.0169\n",
            "Epoch 23/50\n",
            "354/354 [==============================] - 0s 97us/step - loss: 0.0225 - acc: 0.0169\n",
            "Epoch 24/50\n",
            "354/354 [==============================] - 0s 92us/step - loss: 0.0224 - acc: 0.0198\n",
            "Epoch 25/50\n",
            "354/354 [==============================] - 0s 100us/step - loss: 0.0221 - acc: 0.0169\n",
            "Epoch 26/50\n",
            "354/354 [==============================] - 0s 96us/step - loss: 0.0220 - acc: 0.0169\n",
            "Epoch 27/50\n",
            "354/354 [==============================] - 0s 96us/step - loss: 0.0227 - acc: 0.0169\n",
            "Epoch 28/50\n",
            "354/354 [==============================] - 0s 96us/step - loss: 0.0219 - acc: 0.0169\n",
            "Epoch 29/50\n",
            "354/354 [==============================] - 0s 93us/step - loss: 0.0216 - acc: 0.0169\n",
            "Epoch 30/50\n",
            "354/354 [==============================] - 0s 108us/step - loss: 0.0215 - acc: 0.0169\n",
            "Epoch 31/50\n",
            "354/354 [==============================] - 0s 96us/step - loss: 0.0214 - acc: 0.0169\n",
            "Epoch 32/50\n",
            "354/354 [==============================] - 0s 97us/step - loss: 0.0212 - acc: 0.0169\n",
            "Epoch 33/50\n",
            "354/354 [==============================] - 0s 101us/step - loss: 0.0210 - acc: 0.0169\n",
            "Epoch 34/50\n",
            "354/354 [==============================] - 0s 93us/step - loss: 0.0209 - acc: 0.0169\n",
            "Epoch 35/50\n",
            "354/354 [==============================] - 0s 100us/step - loss: 0.0207 - acc: 0.0169\n",
            "Epoch 36/50\n",
            "354/354 [==============================] - 0s 101us/step - loss: 0.0207 - acc: 0.0169\n",
            "Epoch 37/50\n",
            "354/354 [==============================] - 0s 101us/step - loss: 0.0205 - acc: 0.0169\n",
            "Epoch 38/50\n",
            "354/354 [==============================] - 0s 101us/step - loss: 0.0203 - acc: 0.0169\n",
            "Epoch 39/50\n",
            "354/354 [==============================] - 0s 91us/step - loss: 0.0204 - acc: 0.0169\n",
            "Epoch 40/50\n",
            "354/354 [==============================] - 0s 97us/step - loss: 0.0202 - acc: 0.0169\n",
            "Epoch 41/50\n",
            "354/354 [==============================] - 0s 95us/step - loss: 0.0200 - acc: 0.0169\n",
            "Epoch 42/50\n",
            "354/354 [==============================] - 0s 97us/step - loss: 0.0199 - acc: 0.0169\n",
            "Epoch 43/50\n",
            "354/354 [==============================] - 0s 128us/step - loss: 0.0198 - acc: 0.0169\n",
            "Epoch 44/50\n",
            "354/354 [==============================] - 0s 108us/step - loss: 0.0196 - acc: 0.0169\n",
            "Epoch 45/50\n",
            "354/354 [==============================] - 0s 101us/step - loss: 0.0195 - acc: 0.0198\n",
            "Epoch 46/50\n",
            "354/354 [==============================] - 0s 96us/step - loss: 0.0192 - acc: 0.0198\n",
            "Epoch 47/50\n",
            "354/354 [==============================] - 0s 97us/step - loss: 0.0193 - acc: 0.0169\n",
            "Epoch 48/50\n",
            "354/354 [==============================] - 0s 95us/step - loss: 0.0193 - acc: 0.0169\n",
            "Epoch 49/50\n",
            "354/354 [==============================] - 0s 97us/step - loss: 0.0190 - acc: 0.0198\n",
            "Epoch 50/50\n",
            "354/354 [==============================] - 0s 97us/step - loss: 0.0188 - acc: 0.0198\n"
          ],
          "name": "stdout"
        },
        {
          "output_type": "execute_result",
          "data": {
            "text/plain": [
              "<keras.callbacks.History at 0x7fb4977ff0f0>"
            ]
          },
          "metadata": {
            "tags": []
          },
          "execution_count": 16
        }
      ]
    },
    {
      "cell_type": "code",
      "metadata": {
        "id": "1QuQjuqdLKe3",
        "colab_type": "code",
        "outputId": "1da0eb5a-884f-43a8-814c-c07d291a820b",
        "colab": {
          "base_uri": "https://localhost:8080/",
          "height": 51
        }
      },
      "source": [
        "model.evaluate(xtest, ytest)"
      ],
      "execution_count": 17,
      "outputs": [
        {
          "output_type": "stream",
          "text": [
            "152/152 [==============================] - 0s 296us/step\n"
          ],
          "name": "stdout"
        },
        {
          "output_type": "execute_result",
          "data": {
            "text/plain": [
              "[0.022005158035378707, 0.03289473684210526]"
            ]
          },
          "metadata": {
            "tags": []
          },
          "execution_count": 17
        }
      ]
    },
    {
      "cell_type": "code",
      "metadata": {
        "id": "rxppB-r0MIPF",
        "colab_type": "code",
        "colab": {}
      },
      "source": [
        ""
      ],
      "execution_count": 0,
      "outputs": []
    }
  ]
}